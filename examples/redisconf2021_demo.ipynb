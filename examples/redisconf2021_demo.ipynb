{
 "cells": [
  {
   "cell_type": "markdown",
   "metadata": {},
   "source": [
    "# RedGrease Demo for RedisConf 2021\n",
    "\n",
    "Quick demonstration of how to create and run Redis Gears functions, using RedGrease.\n",
    "\n",
    "Demos:\n",
    "- Simple Gears Query (link)\n",
    "- Transactions Stream processing (link)\n",
    "- Custom command (link)\n",
    "\n",
    "# Preparations\n",
    "Before running the demos, make sure that the prerequisites are met and that the preparation steps have successfully been executed. \n",
    "Some preparation steps, particularly the downloads, may take quite some time. \n",
    "\n",
    "## Prerequisites\n",
    "- Python3.7\n",
    "- Pip\n",
    "- Docker\n",
    "\n",
    "## Download Datasets\n",
    "## Download Redis Gears Cluster Docker image\n",
    "## Run Redis Gears Cluster contaioner\n",
    "## Install Python requirements\n",
    "## Load Data into cluster\n",
    "\n",
    "# Demos\n",
    "## 1. Simple Gears Query\n",
    "## 2. Transactions Stream Processing \n",
    "## 3. Custom command"
   ]
  },
  {
   "cell_type": "code",
   "execution_count": 1,
   "metadata": {},
   "outputs": [
    {
     "name": "stdout",
     "output_type": "stream",
     "text": [
      "Python 3.7.10\n",
      "pip 21.0.1 from /home/anders/Documents/Projects/2021/redgrease/.venv/lib/python3.7/site-packages/pip (python 3.7)\n",
      "Docker version 19.03.12, build 48a66213fe\n"
     ]
    }
   ],
   "source": [
    "import sys  # noqa\n",
    "!{sys.executable} --version  # type:ignore\n",
    "!{sys.executable} -m pip --version  # type:ignore\n",
    "!docker --version  # type:ignore"
   ]
  },
  {
   "cell_type": "markdown",
   "metadata": {},
   "source": [
    "## 1. Install Dependencies"
   ]
  },
  {
   "cell_type": "code",
   "execution_count": 2,
   "metadata": {},
   "outputs": [
    {
     "name": "stdout",
     "output_type": "stream",
     "text": [
      "Requirement already satisfied: redgrease[client] in /home/anders/Documents/Projects/2021/redgrease/src (0.1.22)\n",
      "Requirement already satisfied: attrs in /home/anders/Documents/Projects/2021/redgrease/.venv/lib/python3.7/site-packages (from redgrease[client]) (20.3.0)\n",
      "Requirement already satisfied: redis in /home/anders/Documents/Projects/2021/redgrease/.venv/lib/python3.7/site-packages (from redgrease[client]) (3.5.3)\n",
      "Requirement already satisfied: cloudpickle in /home/anders/Documents/Projects/2021/redgrease/.venv/lib/python3.7/site-packages (from redgrease[client]) (1.6.0)\n",
      "Requirement already satisfied: packaging in /home/anders/Documents/Projects/2021/redgrease/.venv/lib/python3.7/site-packages (from redgrease[client]) (20.9)\n",
      "Requirement already satisfied: wrapt in /home/anders/Documents/Projects/2021/redgrease/.venv/lib/python3.7/site-packages (from redgrease[client]) (1.12.1)\n",
      "Requirement already satisfied: typing-extensions in /home/anders/Documents/Projects/2021/redgrease/.venv/lib/python3.7/site-packages (from redgrease[client]) (3.7.4.3)\n",
      "Requirement already satisfied: pyparsing>=2.0.2 in /home/anders/Documents/Projects/2021/redgrease/.venv/lib/python3.7/site-packages (from packaging->redgrease[client]) (2.4.7)\n"
     ]
    }
   ],
   "source": [
    "!{sys.executable} -m pip install redgrease[client]  # type:ignore"
   ]
  },
  {
   "cell_type": "code",
   "execution_count": 3,
   "metadata": {},
   "outputs": [
    {
     "name": "stdout",
     "output_type": "stream",
     "text": [
      "af2bfd44d665db9d076c84a870b8ef4fc4af5a3cccc0dd9efe786f6f80742c00\n"
     ]
    }
   ],
   "source": [
    "!docker run --name gears --rm -d -p 30001:30001 -p 30002:30002 -p 30003:30003 redislabs/rgcluster:latest   # type:ignore"
   ]
  },
  {
   "cell_type": "code",
   "execution_count": 4,
   "metadata": {},
   "outputs": [],
   "source": [
    "import redgrease\n",
    "import redgrease.utils"
   ]
  },
  {
   "cell_type": "code",
   "execution_count": 5,
   "metadata": {},
   "outputs": [],
   "source": [
    "r = redgrease.RedisGears(host=\"localhost\", port=30001)"
   ]
  },
  {
   "cell_type": "code",
   "execution_count": 6,
   "metadata": {},
   "outputs": [
    {
     "data": {
      "text/plain": "True"
     },
     "execution_count": 6,
     "metadata": {},
     "output_type": "execute_result"
    }
   ],
   "source": [
    "r.set(\"Anders\", 41)"
   ]
  },
  {
   "cell_type": "code",
   "execution_count": 7,
   "metadata": {},
   "outputs": [
    {
     "data": {
      "text/plain": "{'MaxExecutions': 1000,\n 'MaxExecutionsPerRegistration': 100,\n 'ProfileExecutions': False,\n 'PythonAttemptTraceback': True,\n 'DownloadDeps': True,\n 'DependenciesUrl': 'http://redismodules.s3.amazonaws.com/redisgears/redisgears-dependencies.linux-buster-x64.1.0.1.tgz',\n 'DependenciesSha256': 'dd1c4c55e296a27a3044b315219b23505ffbc222376fa7af1a7dac079d94caaa',\n 'PythonInstallationDir': '/var/opt/redislabs/modules/rg',\n 'CreateVenv': False,\n 'ExecutionThreads': 3,\n 'ExecutionMaxIdleTime': 5000,\n 'PythonInstallReqMaxIdleTime': 30000,\n 'SendMsgRetries': 3}"
     },
     "execution_count": 7,
     "metadata": {},
     "output_type": "execute_result"
    }
   ],
   "source": [
    "r.gears.config.get()"
   ]
  },
  {
   "cell_type": "code",
   "execution_count": null,
   "metadata": {},
   "outputs": [],
   "source": []
  }
 ],
 "metadata": {
  "kernelspec": {
   "display_name": "Python 3.7.10  ('.venv': venv)",
   "metadata": {
    "interpreter": {
     "hash": "e460f08e12b593b8ed609a68de7e1df226e15769e1760ee0273d0d026aa5c08e"
    }
   },
   "name": "python3"
  },
  "language_info": {
   "codemirror_mode": {
    "name": "ipython",
    "version": 3
   },
   "file_extension": ".py",
   "mimetype": "text/x-python",
   "name": "python",
   "nbconvert_exporter": "python",
   "pygments_lexer": "ipython3",
   "version": "3.7.10"
  },
  "orig_nbformat": 2
 },
 "nbformat": 4,
 "nbformat_minor": 2
}