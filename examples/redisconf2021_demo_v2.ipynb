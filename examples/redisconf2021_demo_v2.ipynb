{
 "cells": [
  {
   "cell_type": "markdown",
   "metadata": {},
   "source": [
    "# RedGrease Demo at RedisConf 2021\n",
    "\n",
    "Quick demonstration of how to create and run Redis Gears functions, using RedGrease.\n",
    "\n",
    "## [Demos](#Demos):\n",
    "1. [The Basics](#1.-The-Basics)\n",
    "2. [Simple Analytics Query](#2.-Simple-Analytics-Query)\n",
    "3. [Transaction Stream Processing](#3.-Transaction-Stream-Processing)\n",
    "4. [Custom Command](#4.-Custom-Command)\n"
   ]
  },
  {
   "cell_type": "markdown",
   "metadata": {},
   "source": [
    "# Preparations\n",
    "Before running the demos, make sure that the prerequisites are met and that the preparation steps have successfully been executed. \n",
    "Some preparation steps, particularly the downloads, may take quite some time. "
   ]
  },
  {
   "cell_type": "markdown",
   "metadata": {},
   "source": [
    "## 1. Prerequisites\n",
    "- Python3.7\n",
    "- Pip\n",
    "- Docker\n",
    "- Jupyter\n",
    "\n",
    "Run the cell below tho validate your prerequisites."
   ]
  },
  {
   "cell_type": "code",
   "execution_count": 1,
   "metadata": {},
   "outputs": [
    {
     "name": "stdout",
     "output_type": "stream",
     "text": [
      "Requirements all look good!\n"
     ]
    }
   ],
   "source": [
    "# Run cell to test your environment requirements\n",
    "\n",
    "import sys\n",
    "import re\n",
    "pyver = !{sys.executable} --version  # type: ignore\n",
    "pipver = !{sys.executable} -m pip --version  # type: ignore\n",
    "dockver = !docker --version  # type: ignore\n",
    "\n",
    "if not re.match(\"Python 3.7\", pyver[0]):\n",
    "    raise SystemExit(f\"This demo only supports Python 3.7. You are running {pyver[0]}.\")\n",
    "\n",
    "if not re.match(\".*\\(python 3.7\\)\", pipver[0]):\n",
    "    raise SystemExit(\"Please install Pip for yout Python 3.7 environment.\")\n",
    "\n",
    "if not re.match(\"Docker version\", dockver[0]):\n",
    "    raise SystemExit(\"Please install Docker\")\n",
    "\n",
    "print(\"Requirements all look good!\")"
   ]
  },
  {
   "cell_type": "markdown",
   "metadata": {},
   "source": [
    "## 2. Python Requirements\n",
    "\n",
    "Install the Python packages required for the demo:\n",
    "\n",
    "- `redgrease[client]` - The RedGrease client library for Redis Gears. This is what is being demonstrated.\n",
    "\n",
    "- `ipywidgets` - Jupyter notebook exetension, for displaying widgets, e.g. buttons, in this notebook.\n",
    "- `requests` - For downloading content.\n",
    "\n",
    "Run the cell below to install the requirements."
   ]
  },
  {
   "cell_type": "code",
   "execution_count": 2,
   "metadata": {},
   "outputs": [],
   "source": [
    "%%capture reqs_install_output\n",
    "!{sys.executable} -m pip install redgrease[client] ipywidgets requests\n",
    "!jupyter nbextension enable --py widgetsnbextension"
   ]
  },
  {
   "cell_type": "markdown",
   "metadata": {},
   "source": [
    "## 3. Download Datasets\n",
    "Some of the demos requiere a portion of the [COCO Dataset](https://cocodataset.org) to be uploaded into the Redis Gears Cluster.\n",
    "The COCO Dataset (Common Objects in Context) is a fairly large set of (~247,000) images and corresponding annotations of what tey are depicting.\n",
    "\n",
    "### Example:\n",
    "<img src=\"coco_example.jpg\" > [COCO Example](coco_example.jpg)\n",
    "\n",
    "```\n",
    "a man riding a snowboard down a ski slope.\n",
    "a snowboarder sailing down a snowy hillside on a mountain.\n",
    "a man is snowboarding past blue markers on a mountain.\n",
    "a man on a snowboard in the snow.\n",
    "a man snow boarding in the snow on a slope. \n",
    "```\n",
    "\n",
    "\n",
    "For the demo we will only pre-download the annotations (json), not the images (jpeg), but it is still between 250 - 500 MB of data, depending on which portions you choose.\n",
    "\n",
    "There are two annotation packages to choose from. \n",
    "- **COCO Train/Cal 2014** - Annotations for 124,000 images (241 MB)\n",
    "- **COCO Train/Val 2017** - Annotations for 123,000 images (241 MB)\n",
    "\n",
    "Either or both may be used. \n",
    "Run the cell below and select using the buttons which dataset(s) to download."
   ]
  },
  {
   "cell_type": "code",
   "execution_count": 3,
   "metadata": {},
   "outputs": [
    {
     "data": {
      "application/vnd.jupyter.widget-view+json": {
       "model_id": "61396e7318ef4bc7a4aeadf114c6ee57",
       "version_major": 2,
       "version_minor": 0
      },
      "text/plain": [
       "Text(value='/home/anders/Downloads/COCO', description='Directory to download annotations to.', layout=Layout(w…"
      ]
     },
     "metadata": {},
     "output_type": "display_data"
    },
    {
     "data": {
      "application/vnd.jupyter.widget-view+json": {
       "model_id": "63e509cd81914c97ae74daf7d7873579",
       "version_major": 2,
       "version_minor": 0
      },
      "text/plain": [
       "Button(description='Congrats! COCO 2014 annotataions is downloaded!', disabled=True, layout=Layout(width='30%'…"
      ]
     },
     "metadata": {},
     "output_type": "display_data"
    },
    {
     "data": {
      "application/vnd.jupyter.widget-view+json": {
       "model_id": "142dc202d7154c41936bd2e84bb1fbd3",
       "version_major": 2,
       "version_minor": 0
      },
      "text/plain": [
       "Button(description='Congrats! COCO 2017 annotataions is downloaded!', disabled=True, layout=Layout(width='30%'…"
      ]
     },
     "metadata": {},
     "output_type": "display_data"
    },
    {
     "data": {
      "application/vnd.jupyter.widget-view+json": {
       "model_id": "7ca6bcaa0ddf451483f319b226a4348d",
       "version_major": 2,
       "version_minor": 0
      },
      "text/plain": [
       "Output()"
      ]
     },
     "metadata": {},
     "output_type": "display_data"
    }
   ],
   "source": [
    "# This code is just for preparation of the demo.\n",
    "# It is NOT part of the demo itself\n",
    "#\n",
    "# Download COCO Annotations \n",
    "# Run the cell, then:\n",
    "# - Validate or modify the Download directory\n",
    "# - Click the button, or buttons for the annotations to download\n",
    "\n",
    "import ipywidgets as widgets\n",
    "import os\n",
    "import requests\n",
    "\n",
    "coco_annotations_url = \"http://images.cocodataset.org/annotations\"\n",
    "annotations_file_pattern = \"annotations_trainval{}.zip\"\n",
    "\n",
    "layout = widgets.Layout(width=\"30%\")\n",
    "output = widgets.Output()\n",
    "\n",
    "def get_download_path():\n",
    "    download_dir = \".\"\n",
    "    if os.name == 'nt':\n",
    "        import winreg\n",
    "        sub_key = r'SOFTWARE\\Microsoft\\Windows\\CurrentVersion\\Explorer\\Shell Folders'\n",
    "        downloads_guid = '{374DE290-123F-4565-9164-39C4925E467B}'\n",
    "        with winreg.OpenKey(winreg.HKEY_CURRENT_USER, sub_key) as key:\n",
    "            download_dir = winreg.QueryValueEx(key, downloads_guid)[0]\n",
    "    else:\n",
    "        download_dir = os.path.join(os.path.expanduser('~'), 'Downloads')\n",
    "\n",
    "    return os.path.join(download_dir, \"COCO\")\n",
    "\n",
    "download_location = widgets.Text(\n",
    "    value=get_download_path(),\n",
    "    placeholder=\"Download directory\",\n",
    "    description=\"Directory to download annotations to.\",\n",
    "    layout=layout,\n",
    ")\n",
    "display(download_location)\n",
    "\n",
    "def dl_state(button, downloading=None):\n",
    "    year = button.value\n",
    "    annotations_file_name = annotations_file_pattern.format(year)\n",
    "    destination = os.path.join(download_location.value, annotations_file_name)\n",
    "    is_downloaded = os.path.isfile(destination)\n",
    "    button.disabled = is_downloaded or downloading is not None\n",
    "    if downloading:\n",
    "        button.description=f\"Downloading COCO {year} annotations (241 MB): {downloading}%. Please wait!\"\n",
    "    elif is_downloaded:\n",
    "        button.description=f\"Congrats! COCO {year} annotataions is downloaded!\"\n",
    "    else:\n",
    "        button.description=f\"Download COCO {year} annotations (241 MB)\"\n",
    "    return is_downloaded, annotations_file_name, destination\n",
    "\n",
    "\n",
    "def download_button_pressed(btn):\n",
    "    downloaded, file_name, destination = dl_state(btn)\n",
    "    if downloaded:\n",
    "        return\n",
    "    if not os.path.isdir(download_location.value):\n",
    "        os.mkdir(download_location.value)\n",
    "    try:\n",
    "        response = requests.get(\n",
    "            f\"{coco_annotations_url}/{file_name}\",\n",
    "            stream=True\n",
    "        )\n",
    "        total_length = response.headers.get('content-length')\n",
    "        with open(destination, \"wb\") as f:\n",
    "            if total_length is None: # no content length header\n",
    "                dl_state(btn, \"???\")\n",
    "                f.write(response.content)\n",
    "                return\n",
    "            total_length = int(total_length)\n",
    "            dl = 0\n",
    "            for data in response.iter_content(chunk_size=4096):\n",
    "                dl += len(data)\n",
    "                f.write(data)\n",
    "                dl_state(btn, int(100*(dl/total_length)))\n",
    "\n",
    "    except Exception:\n",
    "        try:\n",
    "            os.remove(destination)\n",
    "        except Exception:\n",
    "            pass\n",
    "    finally:\n",
    "        dl_state(btn)\n",
    "\n",
    "for year in [\"2014\", \"2017\"]:\n",
    "    download_button = widgets.Button(\n",
    "        tooltip='Start download of selected datasets into the selected download directory.',\n",
    "        layout=layout\n",
    "    )\n",
    "    download_button.value = year\n",
    "    dl_state(download_button)\n",
    "    download_button.on_click(download_button_pressed)\n",
    "    display(download_button)\n",
    "\n",
    "display(output)"
   ]
  },
  {
   "cell_type": "markdown",
   "metadata": {},
   "source": [
    "## 4. Download and run Redis Gears Cluster Docker image\n",
    "Run the cell below to download a Redis Gears Cluster Docker image (~605 MB), if not already present, and run it. "
   ]
  },
  {
   "cell_type": "code",
   "execution_count": 4,
   "metadata": {},
   "outputs": [
    {
     "name": "stdout",
     "output_type": "stream",
     "text": [
      "1.0.6: Pulling from redislabs/redisgears\n",
      "Digest: sha256:ab126c449864cc9bc1b1facae26069c51d5f56760fb15b7a01371317fc69c17f\n",
      "Status: Image is up to date for redislabs/redisgears:1.0.6\n",
      "docker.io/redislabs/redisgears:1.0.6\n",
      "1.0.6: Pulling from redislabs/rgcluster\n",
      "Digest: sha256:563b2bf890085dc0b451de536fb7bacf8bfb98b6d1a162fda92f3b4742c4fd23\n",
      "Status: Image is up to date for redislabs/rgcluster:1.0.6\n",
      "docker.io/redislabs/rgcluster:1.0.6\n",
      "Redis Gears containers are running!\n"
     ]
    }
   ],
   "source": [
    "redis_gears_cluster_image = \"redislabs/rgcluster:1.0.6\"\n",
    "redis_gears_cluster_container_name = \"demo_gears_cluster\"\n",
    "\n",
    "redis_gears_single_image = \"redislabs/redisgears:1.0.6\"\n",
    "redis_gears_single_container_name = \"demo_gears_single\"\n",
    "\n",
    "# Get the correct Redis Gears Images\n",
    "!docker pull {redis_gears_single_image}\n",
    "!docker pull {redis_gears_cluster_image}\n",
    "\n",
    "# Check if the single container is already running.\n",
    "container_info = !docker container inspect {redis_gears_single_container_name}\n",
    "if container_info[0] == \"[]\":\n",
    "    print(\"Starting Redis Gears single instance\")\n",
    "    !docker run --name {redis_gears_single_container_name} --rm -d -p 6379:6379 {redis_gears_single_image}\n",
    "\n",
    "\n",
    "# Check if the cluster container is already running.\n",
    "container_info = !docker container inspect {redis_gears_cluster_container_name}\n",
    "if container_info[0] == \"[]\":\n",
    "    print(\"Starting Redis Gears cluster instance\")\n",
    "    !docker run --name {redis_gears_cluster_container_name} --rm -d -p 30001:30001 -p 30002:30002 -p 30003:30003 {redis_gears_cluster_image}\n",
    "\n",
    "print(\"Redis Gears containers are running!\")"
   ]
  },
  {
   "cell_type": "markdown",
   "metadata": {},
   "source": [
    "## 5. Load Annotation Data into Redis cluster\n",
    "By running the cell below, the COCO annotations downloaded above will be loaded into the Redis Cluster."
   ]
  },
  {
   "cell_type": "code",
   "execution_count": 5,
   "metadata": {},
   "outputs": [
    {
     "data": {
      "application/vnd.jupyter.widget-view+json": {
       "model_id": "0caf42c5b66f44f895f7b7cba3134a12",
       "version_major": 2,
       "version_minor": 0
      },
      "text/plain": [
       "Text(value='', layout=Layout(width='30%'))"
      ]
     },
     "metadata": {},
     "output_type": "display_data"
    }
   ],
   "source": [
    "import glob\n",
    "import itertools\n",
    "import json\n",
    "import os\n",
    "import re\n",
    "import redgrease\n",
    "import zipfile\n",
    "\n",
    "annotation_archive_files = os.path.join(download_location.value, \"annotations_trainval*.zip\")\n",
    "annotation_archives = glob.glob(annotation_archive_files)\n",
    "\n",
    "if not annotation_archives:\n",
    "    print(\"no archives\")\n",
    "    raise SystemExit(\"Please download either or both COCO annotations as per instructions above.\")\n",
    "\n",
    "r = redgrease.RedisGears(host=\"localhost\", port=30001)\n",
    "\n",
    "annotation_json_pattern = re.compile(\"annotations/(\\w+)_(\\w+).json\")\n",
    "\n",
    "annotation_types = [\"instances\"] #  , \"person_keypoints\", \"captions\"]\n",
    "datasets = [\"val2014\"]  # , \"train2014\", \"val2017\", \"train2017\"]\n",
    "\n",
    "output = widgets.Output()\n",
    "progress = widgets.Text(\"\", layout=layout)\n",
    "\n",
    "def load_annotation_info(info, dataset_name, annotation_type):\n",
    "    annotation_info_key = f\"/dataset/COCO/annotations/{annotation_type}/{dataset_name}/info\"\n",
    "    r.hset(annotation_info_key, mapping=info)\n",
    "    return annotation_info_key\n",
    "\n",
    "def load_license_info(license):\n",
    "    license_key = f\"/license/{license['id']}\"\n",
    "    if not r.exists(license_key):\n",
    "        r.hset(license_key, mapping=license)\n",
    "    return license_key\n",
    "\n",
    "def load_image_info(image_info):\n",
    "    img_info_key = f\"/dataset/COCO/image/{image_info['id']}/info\"\n",
    "    if not r.exists(img_info_key):\n",
    "        r.hset(img_info_key, mapping=image_info)\n",
    "    return img_info_key\n",
    "\n",
    "def load_keypoint_names(base_key, keypoints):\n",
    "    keypoints_key = f\"{base_key}/keypoints\"\n",
    "    r.lpush(keypoints_key, *keypoints)\n",
    "    return keypoints_key\n",
    "\n",
    "def load_list_of_str(base_key, sequence):\n",
    "    list_key = f\"{base_key}/skeleton\"\n",
    "    r.lpush(list_key, *map(str, sequence))\n",
    "    return list_key\n",
    "\n",
    "def load_category(category):\n",
    "    category_key = f\"/dataset/COCO/annotations/category/{category['id']}\"\n",
    "\n",
    "    if \"keypoints\" in category:\n",
    "        category[\"keypoints\"] = load_keypoint_names(category_key, category[\"keypoints\"])\n",
    "    if \"skeleton\" in category:\n",
    "        category[\"skeleton\"] = load_list_of_str(category_key, category[\"skeleton\"])\n",
    "\n",
    "    r.hset(category_key, mapping=category)\n",
    "    return category_key\n",
    "\n",
    "def load_segmentation(annotation_key, segmentation):\n",
    "    segmentation_key = f\"{annotation_key}/segmentation\"\n",
    "    if not r.exists(segmentation_key):\n",
    "        for i, segment in enumerate(segmentation):\n",
    "            segment_key = f\"{segmentation_key}/{i}\"\n",
    "            r.lpush(segment_key, *segment)\n",
    "            r.rpush(segmentation_key, segment_key)\n",
    "    return segmentation_key\n",
    "\n",
    "def load_annotation(annotation, dataset_name, annotation_type):\n",
    "    annotation_key = f\"/dataset/COCO/annotations/{annotation_type}/{dataset_name}/annotation/{annotation['id']}\"\n",
    "    \n",
    "    if not r.exists(annotation_key):\n",
    "        if \"segmentation\" in annotation:\n",
    "            # Replace the 'segmentation' list-of-lists, with a key with a list of keys, that in turn point to the inner lists :)\n",
    "            annotation[\"segmentation\"] = load_segmentation(annotation_key, annotation[\"segmentation\"])\n",
    "        \n",
    "        if \"bbox\" in annotation:\n",
    "            # Replace the 'bbox' with a string reepresentaton.load_segmentation\n",
    "            annotation[\"bbox\"] = str(annotation[\"bbox\"])\n",
    "\n",
    "        if \"keypoints\" in annotation:\n",
    "            annotation[\"keypoints\"] = load_list_of_str(annotation_key, annotation[\"keypoints\"])\n",
    "\n",
    "        r.hset(annotation_key, mapping=annotation)\n",
    "    return annotation_key\n",
    "\n",
    "def load_annotation_jsons_from_zip(zip_file):\n",
    "    with zipfile.ZipFile(zip_file) as archive:\n",
    "        for file_name in archive.namelist():\n",
    "            is_annotation_file = annotation_json_pattern.match(file_name)\n",
    "            if not is_annotation_file:\n",
    "                continue\n",
    "            \n",
    "            annotation_type = is_annotation_file.group(1)\n",
    "            dataset_name = is_annotation_file.group(2)\n",
    "\n",
    "            if not annotation_type in annotation_types:\n",
    "                continue\n",
    "            \n",
    "            if not dataset_name in datasets:\n",
    "                continue\n",
    "\n",
    "            with archive.open(file_name) as json_file:\n",
    "                contents = json.load(json_file)\n",
    "\n",
    "            # info\n",
    "            if \"info\" in contents:\n",
    "                progress.value = f\"Loading info for {dataset_name} {annotation_type}\"\n",
    "                load_annotation_info(contents[\"info\"], dataset_name, annotation_type)\n",
    "\n",
    "            # licenses\n",
    "            if \"licenses\" in contents:\n",
    "                progress.value = f\"Loading licenses for {dataset_name} {annotation_type}\"\n",
    "                for lic in contents[\"licenses\"]:\n",
    "                    load_license_info(lic)\n",
    "            \n",
    "            # images\n",
    "            if \"images\" in contents:\n",
    "                progress.value = f\"Loading images for {dataset_name} {annotation_type}\"\n",
    "                for image_info in contents[\"images\"]:\n",
    "                    load_image_info(image_info)\n",
    "\n",
    "            # annotations\n",
    "            if \"annotations\" in contents:\n",
    "                progress.value = f\"Loading annotations for {dataset_name} {annotation_type}\"\n",
    "                for annotation in contents[\"annotations\"]:\n",
    "                    load_annotation(annotation, dataset_name, annotation_type)\n",
    "\n",
    "            # categories (for \"instances\" and \"person_keypoints\")\n",
    "            if \"categories\" in contents:\n",
    "                progress.value = f\"Loading categories for {dataset_name} {annotation_type}\"\n",
    "                for category in contents[\"categories\"]:\n",
    "                    load_category(category)\n",
    "\n",
    "            \n",
    "display(progress)\n",
    "for archive in annotation_archives:\n",
    "    progress.value = f\"Unzipping {archive}\"\n",
    "    load_annotation_jsons_from_zip(archive)\n",
    "progress.value = \"Done!\"\n"
   ]
  },
  {
   "cell_type": "markdown",
   "metadata": {},
   "source": [
    "# Demos\n",
    "This is the actual Demo section. Everything above is just preparations.\n",
    "\n",
    "1. [The Basics](#1.-The-Basics)\n",
    "2. [Simple Analytics Query](#2.-Simple-Analytics-Query)\n",
    "3. [Transaction Stream Processing](#3.-Transaction-Stream-Processing)\n",
    "4. [Custom Command](#4.-Custom-Command)\n"
   ]
  },
  {
   "cell_type": "markdown",
   "metadata": {},
   "source": [
    "<a id=\"demm-basics\"></a>\n",
    "## 1. The Basics\n",
    "Showcasing some of the basic features and commands of the redgrease package."
   ]
  },
  {
   "cell_type": "code",
   "execution_count": 124,
   "metadata": {},
   "outputs": [],
   "source": [
    "import redgrease\n",
    "import redgrease.utils\n",
    "\n",
    "# Create connection / client for single instance Redis\n",
    "single = redgrease.RedisGears() \n",
    "\n",
    "# Create connectoin / client for Redis Cluster \n",
    "cluster = redgrease.RedisGears(\n",
    "    startup_nodes=[\n",
    "        {\"host\":\"localhost\", \"port\":30001},\n",
    "        {\"host\":\"localhost\", \"port\":30002},\n",
    "        {\"host\":\"localhost\", \"port\":30003},\n",
    "    ]\n",
    ")\n"
   ]
  },
  {
   "cell_type": "code",
   "execution_count": 13,
   "metadata": {},
   "outputs": [
    {
     "data": {
      "text/plain": [
       "(True, True, 2, 42, b'1616408947278-0')"
      ]
     },
     "execution_count": 13,
     "metadata": {},
     "output_type": "execute_result"
    }
   ],
   "source": [
    "# The usual Redis commands work as expected\n",
    "a = single.flushall()\n",
    "b = single.set(\"Foo\", 21)\n",
    "c = single.hset(\"Bar\", mapping={\"spam\":\"eggs\", \"meaning\":8})\n",
    "d = single.hincrby(\"Bar\", \"meaning\", 34)\n",
    "e = single.xadd(\"tlogs::0\", {\"msg\":\"START\", \"from\":0, \"to\":0, \"amount\":0})\n",
    "\n",
    "a, b, c, d, e"
   ]
  },
  {
   "cell_type": "code",
   "execution_count": 44,
   "metadata": {},
   "outputs": [
    {
     "name": "stdout",
     "output_type": "stream",
     "text": [
      "Cluster Redis - Python Stats:\n",
      "PyStats(TotalAllocated=1930403157, PeakAllocated=12068267, CurrAllocated=11994022)\n",
      "\n",
      "Cluster Redis - Cluster Info:\n",
      "ClusterInfo(my_id='39db0e6c8869551606c5e2afe50948dcc06b3572', my_run_id='0d7711901c0a83e95decf21a3e20a76ece2e3b51', shards=[ShardInfo(id='a79198c55e6162cef83d2af625f9473e9a2e653d', ip='172.17.0.3', port=30003, unixSocket='None', runid='40b53913a81530d73b305ebed5f393c9ed564e25', minHslot=10923, maxHslot=16383, pendingMessages=0), ShardInfo(id='4abe400cd18ba4392bc4b69ce93d7eb39748ebc7', ip='172.17.0.3', port=30002, unixSocket='None', runid='ad166f6cec8e115053909c8d20801a3155ca2362', minHslot=5461, maxHslot=10922, pendingMessages=0), ShardInfo(id='39db0e6c8869551606c5e2afe50948dcc06b3572', ip='172.17.0.3', port=30001, unixSocket='None', runid='0d7711901c0a83e95decf21a3e20a76ece2e3b51', minHslot=0, maxHslot=5460, pendingMessages=0)])\n",
      "\n",
      "Cluster Redis - Cluster Refresh Response:\n",
      "True\n",
      "\n",
      "Single-node Redis - Python Stats:\n",
      "PyStats(TotalAllocated=43132814, PeakAllocated=12080104, CurrAllocated=12002880)\n",
      "\n",
      "Single-node Redis - All-records gear: [\n",
      "  b\"{'event': None, 'key': 'Foo', 'type': 'string', 'value': '21'}\"\n",
      "  b\"{'event': None, 'key': 'Bar', 'type': 'hash', 'value': {'meaning': '42', 'spam': 'eggs'}}\"\n",
      "  b\"{'event': None, 'key': 'tlogs::0', 'type': 'unknown', 'value': None}\"\n",
      "]\n",
      "\n",
      "Single-node Redis - Key-types gear: [\n",
      "  b\"('Foo', 'string')\"\n",
      "  b\"('Bar', 'hash')\"\n",
      "  b\"('tlogs::0', 'unknown')\"\n",
      "]\n",
      "\n",
      "Single-node Redis - Record count: b'3'\n"
     ]
    }
   ],
   "source": [
    "# Gears commands can be accessed through the 'gears' attribute\n",
    "\n",
    "cluster_pystats = cluster.gears.pystats()\n",
    "\n",
    "print(f\"Cluster Redis - Python Stats:\\n{cluster_pystats}\\n\")\n",
    "\n",
    "\n",
    "\n",
    "cluster_info = cluster.gears.infocluster()\n",
    "\n",
    "print(f\"Cluster Redis - Cluster Info:\\n{cluster_info}\\n\")\n",
    "\n",
    "\n",
    "\n",
    "cluster_refreshed = cluster.gears.refreshcluster()\n",
    "\n",
    "print(f\"Cluster Redis - Cluster Refresh Response:\\n{cluster_refreshed}\\n\")\n",
    "\n",
    "\n",
    "\n",
    "single_pystats = single.gears.pystats()\n",
    "\n",
    "print(f\"Single-node Redis - Python Stats:\\n{single_pystats}\\n\")\n",
    "\n",
    "\n",
    "# Iterate through all Redis key-value records, and return all record data.\n",
    "all_records_gear = single.gears.pyexecute(\"GearsBuilder().run()\")\n",
    "\n",
    "print(\"Single-node Redis - All-records gear: [\")\n",
    "for result in all_records_gear:\n",
    "    print(f\"  {result}\")\n",
    "print(\"]\\n\")\n",
    "\n",
    "\n",
    "# Iterate through all Redis key-value records, and return just the key and type\n",
    "key_type_gear = single.gears.pyexecute(\"GearsBuilder().map(lambda record:(record['key'], record['type'])).run()\")\n",
    "\n",
    "\n",
    "print(\"Single-node Redis - Key-types gear: [\")\n",
    "for result in key_type_gear:\n",
    "    print(f\"  {result}\")\n",
    "print(\"]\\n\")\n",
    "\n",
    "\n",
    "single_record_count = single.gears.pyexecute(\"GearsBuilder().count().run()\")\n",
    "print(f\"Single-node Redis - Record count: {single_record_count}\")"
   ]
  },
  {
   "cell_type": "markdown",
   "metadata": {},
   "source": [
    "### Instead of python functions as strings\n",
    "RedGrease allows for cunstruction of GearFuntion objects"
   ]
  },
  {
   "cell_type": "code",
   "execution_count": 196,
   "metadata": {},
   "outputs": [
    {
     "name": "stdout",
     "output_type": "stream",
     "text": [
      "Cluster Redis - Total records: 959243\n",
      "Total number of images: 40504/n\n",
      "Some portrait images\n"
     ]
    },
    {
     "data": {
      "text/html": [
       "<img src=\"http://images.cocodataset.org/val2014/COCO_val2014_000000156720.jpg\"/>"
      ],
      "text/plain": [
       "<IPython.core.display.Image object>"
      ]
     },
     "metadata": {},
     "output_type": "display_data"
    },
    {
     "data": {
      "text/html": [
       "<img src=\"http://images.cocodataset.org/val2014/COCO_val2014_000000066191.jpg\"/>"
      ],
      "text/plain": [
       "<IPython.core.display.Image object>"
      ]
     },
     "metadata": {},
     "output_type": "display_data"
    },
    {
     "data": {
      "text/html": [
       "<img src=\"http://images.cocodataset.org/val2014/COCO_val2014_000000329041.jpg\"/>"
      ],
      "text/plain": [
       "<IPython.core.display.Image object>"
      ]
     },
     "metadata": {},
     "output_type": "display_data"
    },
    {
     "data": {
      "text/html": [
       "<img src=\"http://images.cocodataset.org/val2014/COCO_val2014_000000125983.jpg\"/>"
      ],
      "text/plain": [
       "<IPython.core.display.Image object>"
      ]
     },
     "metadata": {},
     "output_type": "display_data"
    }
   ],
   "source": [
    "record_count = redgrease.KeysOnlyReader().count().run()\n",
    "\n",
    "cluster_record_count = cluster.gears.pyexecute(record_count)\n",
    "\n",
    "print(f\"Cluster Redis - Total records: {cluster_record_count}\")\n",
    "\n",
    "\n",
    "# GearFunctions lets you compose and reuse partial functions\n",
    "images = redgrease.KeysReader(\"/dataset/COCO/image/*/info\").map(lambda record: record['value'])\n",
    "\n",
    "image_count = images.count()\n",
    "\n",
    "portrait_images = images.filter(lambda img: int(img['height']) > int(img['width']))\n",
    "\n",
    "some_image_urls = portrait_images.collect().limit(4).map(lambda record: record['coco_url'])\n",
    "\n",
    "\n",
    "# Different ways of running\n",
    "img_cnt = image_count.run(on=cluster)\n",
    "img_urls = cluster.gears.pyexecute(some_image_urls)\n",
    "img_portrait = some_image_urls.run().on(cluster)\n",
    "\n",
    "\n",
    "print(f\"Total number of images: {img_cnt}/n\")\n",
    "\n",
    "from IPython.display import Image\n",
    "from IPython.core.display import HTML \n",
    "\n",
    "print(f\"Some portrait images\")\n",
    "for img_url in img_urls:\n",
    "    display(Image(url=img_url))\n",
    "\n",
    "\n",
    "\n"
   ]
  },
  {
   "cell_type": "markdown",
   "metadata": {},
   "source": [
    "<a id=\"demo-query\"></a>\n",
    "## 2. Simple Analytics Query "
   ]
  },
  {
   "cell_type": "code",
   "execution_count": 141,
   "metadata": {},
   "outputs": [
    {
     "data": {
      "text/plain": [
       "{'cell phone': '77',\n",
       " 'giraffe': '25',\n",
       " 'tv': '72',\n",
       " 'bed': '65',\n",
       " 'toothbrush': '90',\n",
       " 'vase': '86',\n",
       " 'scissors': '87',\n",
       " 'snowboard': '36',\n",
       " 'motorcycle': '4',\n",
       " 'tie': '32',\n",
       " 'pizza': '59',\n",
       " 'donut': '60',\n",
       " 'hot dog': '58',\n",
       " 'parking meter': '14',\n",
       " 'dog': '18',\n",
       " 'keyboard': '76',\n",
       " 'laptop': '73',\n",
       " 'sandwich': '54',\n",
       " 'potted plant': '64',\n",
       " 'spoon': '50',\n",
       " 'traffic light': '10',\n",
       " 'cake': '61',\n",
       " 'tennis racket': '43',\n",
       " 'refrigerator': '82',\n",
       " 'truck': '8',\n",
       " 'cup': '47',\n",
       " 'cow': '21',\n",
       " 'wine glass': '46',\n",
       " 'boat': '9',\n",
       " 'orange': '55',\n",
       " 'fire hydrant': '11',\n",
       " 'skateboard': '41',\n",
       " 'knife': '49',\n",
       " 'banana': '52',\n",
       " 'sports ball': '37',\n",
       " 'sheep': '20',\n",
       " 'microwave': '78',\n",
       " 'person': '1',\n",
       " 'horse': '19',\n",
       " 'airplane': '5',\n",
       " 'dining table': '67',\n",
       " 'bird': '16',\n",
       " 'bowl': '51',\n",
       " 'mouse': '74',\n",
       " 'hair drier': '89',\n",
       " 'suitcase': '33',\n",
       " 'broccoli': '56',\n",
       " 'sink': '81',\n",
       " 'umbrella': '28',\n",
       " 'toilet': '70',\n",
       " 'couch': '63',\n",
       " 'bench': '15',\n",
       " 'zebra': '24',\n",
       " 'clock': '85',\n",
       " 'surfboard': '42',\n",
       " 'bear': '23',\n",
       " 'stop sign': '13',\n",
       " 'elephant': '22',\n",
       " 'handbag': '31',\n",
       " 'backpack': '27',\n",
       " 'remote': '75',\n",
       " 'oven': '79',\n",
       " 'bus': '6',\n",
       " 'baseball bat': '39',\n",
       " 'kite': '38',\n",
       " 'bicycle': '2',\n",
       " 'chair': '62',\n",
       " 'toaster': '80',\n",
       " 'skis': '35',\n",
       " 'book': '84',\n",
       " 'train': '7',\n",
       " 'fork': '48',\n",
       " 'frisbee': '34',\n",
       " 'cat': '17',\n",
       " 'car': '3',\n",
       " 'apple': '53',\n",
       " 'baseball glove': '40',\n",
       " 'bottle': '44',\n",
       " 'teddy bear': '88',\n",
       " 'carrot': '57'}"
      ]
     },
     "execution_count": 141,
     "metadata": {},
     "output_type": "execute_result"
    }
   ],
   "source": [
    "def dict_merge(d1, d2):\n",
    "    return {**d1, **d2}\n",
    "\n",
    "get_categories = (\n",
    "    redgrease.KeysReader(\"/dataset/COCO/annotations/category/*\")\n",
    "    .map(lambda record: {record['value']['name']:record['value']['id']})\n",
    "    .aggregate({},dict_merge, dict_merge)\n",
    ")\n",
    "                         \n",
    "category_id_lookup = cluster.gears.pyexecute(get_categories)\n",
    "category_id_lookup"
   ]
  },
  {
   "cell_type": "code",
   "execution_count": 189,
   "metadata": {},
   "outputs": [
    {
     "data": {
      "text/plain": [
       "[{'image_id': '542676', 'instances': {'1': 1, '19': 1}},\n",
       " {'image_id': '396903', 'instances': {'1': 2, '5': 1}}]"
      ]
     },
     "execution_count": 189,
     "metadata": {},
     "output_type": "execute_result"
    }
   ],
   "source": [
    "\n",
    "instance_annotations = (\n",
    "    redgrease.KeysReader(\"/dataset/COCO/annotations/instances/*/annotation/*\")\n",
    "    .filter(lambda record: record['type'] == \"hash\")\n",
    "    .map(lambda record: record[\"value\"])\n",
    ")\n",
    "\n",
    "\n",
    "\n",
    "def accumulate_categories(image_id, accumulator, annotation):\n",
    "    annotation_category_id = annotation['category_id']\n",
    "    accumulator[annotation_category_id] = accumulator.get(annotation_category_id, 0) + 1\n",
    "    return accumulator\n",
    "\n",
    "\n",
    "def accumulate_category_counts(image_id, accumulator, category_count):\n",
    "    for category, count in category_count.items():\n",
    "        accumulator[category] = accumulator.get(category, 0) + count\n",
    "    return accumulator\n",
    "\n",
    "\n",
    "def format_img_stats(img_stats):\n",
    "    return {\n",
    "        'image_id' : img_stats['key'],\n",
    "        'instances' : { cat_id:count for cat_id, count in img_stats['value'].items()}\n",
    "    }\n",
    "\n",
    "category_count_by_image = instance_annotations.aggregateby(\n",
    "    extractor = lambda annotation : annotation['image_id'],\n",
    "    zero = {},\n",
    "    seqOp = accumulate_categories,\n",
    "    combOp = accumulate_category_counts\n",
    ").map(format_img_stats).collect()\n",
    "\n",
    "\n",
    "cluster.gears.pyexecute(category_count_by_image.limit(2))\n",
    "\n",
    "\n",
    "\n",
    "\n"
   ]
  },
  {
   "cell_type": "code",
   "execution_count": 228,
   "metadata": {},
   "outputs": [
    {
     "data": {
      "text/plain": [
       "[{'image_id': '102843', 'instances': {'1': 14, '9': 1, '16': 2}},\n",
       " {'image_id': '172271', 'instances': {'1': 8, '9': 7, '16': 2, '15': 1}},\n",
       " {'image_id': '575719',\n",
       "  'instances': {'1': 2, '34': 1, '15': 1, '16': 2, '9': 1}},\n",
       " {'image_id': '39081', 'instances': {'16': 2, '1': 1, '18': 1}},\n",
       " {'image_id': '281625',\n",
       "  'instances': {'1': 14, '16': 2, '31': 1, '27': 1, '85': 2, '15': 3}},\n",
       " {'image_id': '478518', 'instances': {'16': 2, '47': 1, '1': 1}},\n",
       " {'image_id': '459733', 'instances': {'1': 1, '42': 1, '18': 1, '16': 2}},\n",
       " {'image_id': '470536', 'instances': {'1': 6, '15': 4, '16': 2}},\n",
       " {'image_id': '52435', 'instances': {'1': 14, '16': 2, '42': 2, '28': 1}},\n",
       " {'image_id': '230679',\n",
       "  'instances': {'28': 4, '1': 1, '16': 2, '24': 1, '25': 1, '31': 1}}]"
      ]
     },
     "execution_count": 228,
     "metadata": {},
     "output_type": "execute_result"
    }
   ],
   "source": [
    "def contstrain(constraints):\n",
    "    # return a predicate for instance counts where the count of a set of categories\n",
    "    # Constraints is a dict from category name to a tuple of (min_count, max_count)\n",
    "    \n",
    "    id_constraints = { category_id_lookup[cat_name]:x for cat_name, x in constraints.items()}\n",
    "    \n",
    "    def predicate(record):\n",
    "        instances = record['instances']\n",
    "        \n",
    "        for cat_id, constraint in id_constraints.items():\n",
    "            min_count, max_count = constraint\n",
    "            \n",
    "            if cat_id not in instances:\n",
    "                if min_count is not ... and min_count > 0:\n",
    "                    return False\n",
    "                continue\n",
    "            \n",
    "            if min_count is not ... and instances[cat_id] < min_count:\n",
    "                return False\n",
    "            \n",
    "            if max_count is not ... and instances[cat_id] > max_count:\n",
    "                return False\n",
    "            \n",
    "        return True\n",
    "\n",
    "    return predicate\n",
    "    \n",
    "query_params = {\n",
    "    'person': [1, ...],\n",
    "    'bird': [2, 2],\n",
    "    'car' : [..., 0]\n",
    "}\n",
    "\n",
    "\n",
    "query = category_count_by_image.filter(contstrain(query_params))\n",
    "\n",
    "query_result = cluster.gears.pyexecute(query.limit(10))\n",
    "\n",
    "query_result\n",
    "\n"
   ]
  },
  {
   "cell_type": "code",
   "execution_count": 229,
   "metadata": {},
   "outputs": [
    {
     "data": {
      "text/html": [
       "<img src=\"http://images.cocodataset.org/val2014/COCO_val2014_000000230679.jpg\"/>"
      ],
      "text/plain": [
       "<IPython.core.display.Image object>"
      ]
     },
     "metadata": {},
     "output_type": "display_data"
    },
    {
     "data": {
      "text/html": [
       "<img src=\"http://images.cocodataset.org/val2014/COCO_val2014_000000459733.jpg\"/>"
      ],
      "text/plain": [
       "<IPython.core.display.Image object>"
      ]
     },
     "metadata": {},
     "output_type": "display_data"
    },
    {
     "data": {
      "text/html": [
       "<img src=\"http://images.cocodataset.org/val2014/COCO_val2014_000000039081.jpg\"/>"
      ],
      "text/plain": [
       "<IPython.core.display.Image object>"
      ]
     },
     "metadata": {},
     "output_type": "display_data"
    },
    {
     "data": {
      "text/html": [
       "<img src=\"http://images.cocodataset.org/val2014/COCO_val2014_000000281625.jpg\"/>"
      ],
      "text/plain": [
       "<IPython.core.display.Image object>"
      ]
     },
     "metadata": {},
     "output_type": "display_data"
    },
    {
     "data": {
      "text/html": [
       "<img src=\"http://images.cocodataset.org/val2014/COCO_val2014_000000575719.jpg\"/>"
      ],
      "text/plain": [
       "<IPython.core.display.Image object>"
      ]
     },
     "metadata": {},
     "output_type": "display_data"
    },
    {
     "data": {
      "text/html": [
       "<img src=\"http://images.cocodataset.org/val2014/COCO_val2014_000000172271.jpg\"/>"
      ],
      "text/plain": [
       "<IPython.core.display.Image object>"
      ]
     },
     "metadata": {},
     "output_type": "display_data"
    },
    {
     "data": {
      "text/html": [
       "<img src=\"http://images.cocodataset.org/val2014/COCO_val2014_000000102843.jpg\"/>"
      ],
      "text/plain": [
       "<IPython.core.display.Image object>"
      ]
     },
     "metadata": {},
     "output_type": "display_data"
    },
    {
     "data": {
      "text/html": [
       "<img src=\"http://images.cocodataset.org/val2014/COCO_val2014_000000478518.jpg\"/>"
      ],
      "text/plain": [
       "<IPython.core.display.Image object>"
      ]
     },
     "metadata": {},
     "output_type": "display_data"
    },
    {
     "data": {
      "text/html": [
       "<img src=\"http://images.cocodataset.org/val2014/COCO_val2014_000000052435.jpg\"/>"
      ],
      "text/plain": [
       "<IPython.core.display.Image object>"
      ]
     },
     "metadata": {},
     "output_type": "display_data"
    },
    {
     "data": {
      "text/html": [
       "<img src=\"http://images.cocodataset.org/val2014/COCO_val2014_000000470536.jpg\"/>"
      ],
      "text/plain": [
       "<IPython.core.display.Image object>"
      ]
     },
     "metadata": {},
     "output_type": "display_data"
    }
   ],
   "source": [
    "\n",
    "image_ids = [result['image_id'] for result in query_result]\n",
    "\n",
    "get_image_urls = (\n",
    "    images.filter(lambda img: img['id'] in image_ids)\n",
    "    .map(lambda img: img[\"coco_url\"])\n",
    ")\n",
    "\n",
    "image_urls = cluster.gears.pyexecute(get_image_urls)\n",
    "\n",
    "for image_url in image_urls:\n",
    "    display(Image(url=image_url))\n"
   ]
  },
  {
   "cell_type": "markdown",
   "metadata": {},
   "source": [
    "<a id=\"demo-stream\"></a>\n",
    "## 3. Transaction Stream Processing"
   ]
  },
  {
   "cell_type": "code",
   "execution_count": 239,
   "metadata": {},
   "outputs": [
    {
     "data": {
      "text/plain": [
       "ExecutionResult[bool](True)"
      ]
     },
     "execution_count": 239,
     "metadata": {},
     "output_type": "execute_result"
    }
   ],
   "source": [
    "smtg = redgrease.StreamReader(\"tlogs:*\").foreach(lambda x : redgrease.cmd.set(\"TEST\", str(x))).register()\n",
    "\n",
    "smtg.on(single)\n",
    "\n"
   ]
  },
  {
   "cell_type": "code",
   "execution_count": 240,
   "metadata": {},
   "outputs": [
    {
     "data": {
      "text/plain": [
       "b'1616580178324-0'"
      ]
     },
     "execution_count": 240,
     "metadata": {},
     "output_type": "execute_result"
    }
   ],
   "source": [
    "single.xadd(\"tlogs::0\", {\"msg\":\"START\", \"from\":0, \"to\":0, \"amount\":0})"
   ]
  },
  {
   "cell_type": "code",
   "execution_count": 248,
   "metadata": {},
   "outputs": [
    {
     "ename": "TypeError",
     "evalue": "__init__() got an unexpected keyword argument 'status'",
     "output_type": "error",
     "traceback": [
      "\u001b[0;31m---------------------------------------------------------------------------\u001b[0m",
      "\u001b[0;31mTypeError\u001b[0m                                 Traceback (most recent call last)",
      "\u001b[0;32m<ipython-input-248-3c402d884a2b>\u001b[0m in \u001b[0;36m<module>\u001b[0;34m\u001b[0m\n\u001b[0;32m----> 1\u001b[0;31m \u001b[0msingle\u001b[0m\u001b[0;34m.\u001b[0m\u001b[0mgears\u001b[0m\u001b[0;34m.\u001b[0m\u001b[0mdumpregistrations\u001b[0m\u001b[0;34m(\u001b[0m\u001b[0;34m)\u001b[0m\u001b[0;34m\u001b[0m\u001b[0;34m\u001b[0m\u001b[0m\n\u001b[0m",
      "\u001b[0;32m~/Documents/Projects/2021/redgrease/src/redgrease/client.py\u001b[0m in \u001b[0;36mdumpregistrations\u001b[0;34m(self)\u001b[0m\n\u001b[1;32m    170\u001b[0m                 \u001b[0mA\u001b[0m \u001b[0mlist\u001b[0m \u001b[0mof\u001b[0m \u001b[0mRegistration\u001b[0m\u001b[0;34m,\u001b[0m \u001b[0;32mwith\u001b[0m \u001b[0mone\u001b[0m \u001b[0mentry\u001b[0m \u001b[0mper\u001b[0m \u001b[0mregistered\u001b[0m \u001b[0mfunction\u001b[0m\u001b[0;34m.\u001b[0m\u001b[0;34m\u001b[0m\u001b[0;34m\u001b[0m\u001b[0m\n\u001b[1;32m    171\u001b[0m         \"\"\"\n\u001b[0;32m--> 172\u001b[0;31m         \u001b[0;32mreturn\u001b[0m \u001b[0mself\u001b[0m\u001b[0;34m.\u001b[0m\u001b[0mredis\u001b[0m\u001b[0;34m.\u001b[0m\u001b[0mexecute_command\u001b[0m\u001b[0;34m(\u001b[0m\u001b[0;34m\"RG.DUMPREGISTRATIONS\"\u001b[0m\u001b[0;34m)\u001b[0m\u001b[0;34m\u001b[0m\u001b[0;34m\u001b[0m\u001b[0m\n\u001b[0m\u001b[1;32m    173\u001b[0m \u001b[0;34m\u001b[0m\u001b[0m\n\u001b[1;32m    174\u001b[0m     def getexecution(\n",
      "\u001b[0;32m~/Documents/Projects/2021/redgrease/.venv/lib/python3.7/site-packages/redis/client.py\u001b[0m in \u001b[0;36mexecute_command\u001b[0;34m(self, *args, **options)\u001b[0m\n\u001b[1;32m    899\u001b[0m         \u001b[0;32mtry\u001b[0m\u001b[0;34m:\u001b[0m\u001b[0;34m\u001b[0m\u001b[0;34m\u001b[0m\u001b[0m\n\u001b[1;32m    900\u001b[0m             \u001b[0mconn\u001b[0m\u001b[0;34m.\u001b[0m\u001b[0msend_command\u001b[0m\u001b[0;34m(\u001b[0m\u001b[0;34m*\u001b[0m\u001b[0margs\u001b[0m\u001b[0;34m)\u001b[0m\u001b[0;34m\u001b[0m\u001b[0;34m\u001b[0m\u001b[0m\n\u001b[0;32m--> 901\u001b[0;31m             \u001b[0;32mreturn\u001b[0m \u001b[0mself\u001b[0m\u001b[0;34m.\u001b[0m\u001b[0mparse_response\u001b[0m\u001b[0;34m(\u001b[0m\u001b[0mconn\u001b[0m\u001b[0;34m,\u001b[0m \u001b[0mcommand_name\u001b[0m\u001b[0;34m,\u001b[0m \u001b[0;34m**\u001b[0m\u001b[0moptions\u001b[0m\u001b[0;34m)\u001b[0m\u001b[0;34m\u001b[0m\u001b[0;34m\u001b[0m\u001b[0m\n\u001b[0m\u001b[1;32m    902\u001b[0m         \u001b[0;32mexcept\u001b[0m \u001b[0;34m(\u001b[0m\u001b[0mConnectionError\u001b[0m\u001b[0;34m,\u001b[0m \u001b[0mTimeoutError\u001b[0m\u001b[0;34m)\u001b[0m \u001b[0;32mas\u001b[0m \u001b[0me\u001b[0m\u001b[0;34m:\u001b[0m\u001b[0;34m\u001b[0m\u001b[0;34m\u001b[0m\u001b[0m\n\u001b[1;32m    903\u001b[0m             \u001b[0mconn\u001b[0m\u001b[0;34m.\u001b[0m\u001b[0mdisconnect\u001b[0m\u001b[0;34m(\u001b[0m\u001b[0;34m)\u001b[0m\u001b[0;34m\u001b[0m\u001b[0;34m\u001b[0m\u001b[0m\n",
      "\u001b[0;32m~/Documents/Projects/2021/redgrease/.venv/lib/python3.7/site-packages/redis/client.py\u001b[0m in \u001b[0;36mparse_response\u001b[0;34m(self, connection, command_name, **options)\u001b[0m\n\u001b[1;32m    919\u001b[0m             \u001b[0;32mraise\u001b[0m\u001b[0;34m\u001b[0m\u001b[0;34m\u001b[0m\u001b[0m\n\u001b[1;32m    920\u001b[0m         \u001b[0;32mif\u001b[0m \u001b[0mcommand_name\u001b[0m \u001b[0;32min\u001b[0m \u001b[0mself\u001b[0m\u001b[0;34m.\u001b[0m\u001b[0mresponse_callbacks\u001b[0m\u001b[0;34m:\u001b[0m\u001b[0;34m\u001b[0m\u001b[0;34m\u001b[0m\u001b[0m\n\u001b[0;32m--> 921\u001b[0;31m             \u001b[0;32mreturn\u001b[0m \u001b[0mself\u001b[0m\u001b[0;34m.\u001b[0m\u001b[0mresponse_callbacks\u001b[0m\u001b[0;34m[\u001b[0m\u001b[0mcommand_name\u001b[0m\u001b[0;34m]\u001b[0m\u001b[0;34m(\u001b[0m\u001b[0mresponse\u001b[0m\u001b[0;34m,\u001b[0m \u001b[0;34m**\u001b[0m\u001b[0moptions\u001b[0m\u001b[0;34m)\u001b[0m\u001b[0;34m\u001b[0m\u001b[0;34m\u001b[0m\u001b[0m\n\u001b[0m\u001b[1;32m    922\u001b[0m         \u001b[0;32mreturn\u001b[0m \u001b[0mresponse\u001b[0m\u001b[0;34m\u001b[0m\u001b[0;34m\u001b[0m\u001b[0m\n\u001b[1;32m    923\u001b[0m \u001b[0;34m\u001b[0m\u001b[0m\n",
      "\u001b[0;32m~/Documents/Projects/2021/redgrease/src/redgrease/utils.py\u001b[0m in \u001b[0;36mparser\u001b[0;34m(input_list)\u001b[0m\n\u001b[1;32m    473\u001b[0m             \u001b[0minput_list\u001b[0m \u001b[0;34m=\u001b[0m \u001b[0mlist\u001b[0m\u001b[0;34m(\u001b[0m\u001b[0mast\u001b[0m\u001b[0;34m.\u001b[0m\u001b[0mliteral_eval\u001b[0m\u001b[0;34m(\u001b[0m\u001b[0minput_list\u001b[0m\u001b[0;34m)\u001b[0m\u001b[0;34m)\u001b[0m\u001b[0;34m\u001b[0m\u001b[0;34m\u001b[0m\u001b[0m\n\u001b[1;32m    474\u001b[0m \u001b[0;34m\u001b[0m\u001b[0m\n\u001b[0;32m--> 475\u001b[0;31m         \u001b[0;32mreturn\u001b[0m \u001b[0mlist\u001b[0m\u001b[0;34m(\u001b[0m\u001b[0mmap\u001b[0m\u001b[0;34m(\u001b[0m\u001b[0mitem_parser\u001b[0m\u001b[0;34m,\u001b[0m \u001b[0minput_list\u001b[0m\u001b[0;34m)\u001b[0m\u001b[0;34m)\u001b[0m\u001b[0;34m\u001b[0m\u001b[0;34m\u001b[0m\u001b[0m\n\u001b[0m\u001b[1;32m    476\u001b[0m \u001b[0;34m\u001b[0m\u001b[0m\n\u001b[1;32m    477\u001b[0m     \u001b[0;32mreturn\u001b[0m \u001b[0mparser\u001b[0m\u001b[0;34m\u001b[0m\u001b[0;34m\u001b[0m\u001b[0m\n",
      "\u001b[0;32m~/Documents/Projects/2021/redgrease/src/redgrease/data.py\u001b[0m in \u001b[0;36mfrom_redis\u001b[0;34m(cls, params)\u001b[0m\n\u001b[1;32m    344\u001b[0m                 \u001b[0marguments\u001b[0m \u001b[0mthat\u001b[0m \u001b[0mare\u001b[0m \u001b[0;32mnot\u001b[0m \u001b[0mpresent\u001b[0m \u001b[0;32min\u001b[0m \u001b[0mthe\u001b[0m \u001b[0minput\u001b[0m \u001b[0mlist\u001b[0m\u001b[0;34m.\u001b[0m\u001b[0;34m\u001b[0m\u001b[0;34m\u001b[0m\u001b[0m\n\u001b[1;32m    345\u001b[0m         \"\"\"\n\u001b[0;32m--> 346\u001b[0;31m         \u001b[0;32mreturn\u001b[0m \u001b[0mcls\u001b[0m\u001b[0;34m(\u001b[0m\u001b[0;34m**\u001b[0m\u001b[0mto_kwargs\u001b[0m\u001b[0;34m(\u001b[0m\u001b[0mparams\u001b[0m\u001b[0;34m)\u001b[0m\u001b[0;34m)\u001b[0m  \u001b[0;31m# type: ignore\u001b[0m\u001b[0;34m\u001b[0m\u001b[0;34m\u001b[0m\u001b[0m\n\u001b[0m\u001b[1;32m    347\u001b[0m \u001b[0;34m\u001b[0m\u001b[0m\n\u001b[1;32m    348\u001b[0m \u001b[0;34m\u001b[0m\u001b[0m\n",
      "\u001b[0;32m<attrs generated init redgrease.data.Registration>\u001b[0m in \u001b[0;36m__init__\u001b[0;34m(self, id, reader, desc, RegistrationData, PD)\u001b[0m\n\u001b[1;32m      5\u001b[0m     \u001b[0m_inst_dict\u001b[0m\u001b[0;34m[\u001b[0m\u001b[0;34m'reader'\u001b[0m\u001b[0;34m]\u001b[0m \u001b[0;34m=\u001b[0m \u001b[0m__attr_converter_reader\u001b[0m\u001b[0;34m(\u001b[0m\u001b[0mreader\u001b[0m\u001b[0;34m)\u001b[0m\u001b[0;34m\u001b[0m\u001b[0;34m\u001b[0m\u001b[0m\n\u001b[1;32m      6\u001b[0m     \u001b[0m_inst_dict\u001b[0m\u001b[0;34m[\u001b[0m\u001b[0;34m'desc'\u001b[0m\u001b[0;34m]\u001b[0m \u001b[0;34m=\u001b[0m \u001b[0mdesc\u001b[0m\u001b[0;34m\u001b[0m\u001b[0;34m\u001b[0m\u001b[0m\n\u001b[0;32m----> 7\u001b[0;31m     \u001b[0m_inst_dict\u001b[0m\u001b[0;34m[\u001b[0m\u001b[0;34m'RegistrationData'\u001b[0m\u001b[0;34m]\u001b[0m \u001b[0;34m=\u001b[0m \u001b[0m__attr_converter_RegistrationData\u001b[0m\u001b[0;34m(\u001b[0m\u001b[0mRegistrationData\u001b[0m\u001b[0;34m)\u001b[0m\u001b[0;34m\u001b[0m\u001b[0;34m\u001b[0m\u001b[0m\n\u001b[0m\u001b[1;32m      8\u001b[0m     \u001b[0m_inst_dict\u001b[0m\u001b[0;34m[\u001b[0m\u001b[0;34m'PD'\u001b[0m\u001b[0;34m]\u001b[0m \u001b[0;34m=\u001b[0m \u001b[0m__attr_converter_PD\u001b[0m\u001b[0;34m(\u001b[0m\u001b[0mPD\u001b[0m\u001b[0;34m)\u001b[0m\u001b[0;34m\u001b[0m\u001b[0;34m\u001b[0m\u001b[0m\n",
      "\u001b[0;32m~/Documents/Projects/2021/redgrease/src/redgrease/data.py\u001b[0m in \u001b[0;36mfrom_redis\u001b[0;34m(cls, params)\u001b[0m\n\u001b[1;32m    344\u001b[0m                 \u001b[0marguments\u001b[0m \u001b[0mthat\u001b[0m \u001b[0mare\u001b[0m \u001b[0;32mnot\u001b[0m \u001b[0mpresent\u001b[0m \u001b[0;32min\u001b[0m \u001b[0mthe\u001b[0m \u001b[0minput\u001b[0m \u001b[0mlist\u001b[0m\u001b[0;34m.\u001b[0m\u001b[0;34m\u001b[0m\u001b[0;34m\u001b[0m\u001b[0m\n\u001b[1;32m    345\u001b[0m         \"\"\"\n\u001b[0;32m--> 346\u001b[0;31m         \u001b[0;32mreturn\u001b[0m \u001b[0mcls\u001b[0m\u001b[0;34m(\u001b[0m\u001b[0;34m**\u001b[0m\u001b[0mto_kwargs\u001b[0m\u001b[0;34m(\u001b[0m\u001b[0mparams\u001b[0m\u001b[0;34m)\u001b[0m\u001b[0;34m)\u001b[0m  \u001b[0;31m# type: ignore\u001b[0m\u001b[0;34m\u001b[0m\u001b[0;34m\u001b[0m\u001b[0m\n\u001b[0m\u001b[1;32m    347\u001b[0m \u001b[0;34m\u001b[0m\u001b[0m\n\u001b[1;32m    348\u001b[0m \u001b[0;34m\u001b[0m\u001b[0m\n",
      "\u001b[0;31mTypeError\u001b[0m: __init__() got an unexpected keyword argument 'status'"
     ]
    }
   ],
   "source": [
    "single.gears.dumpregistrations()"
   ]
  },
  {
   "cell_type": "code",
   "execution_count": 249,
   "metadata": {},
   "outputs": [
    {
     "data": {
      "text/plain": [
       "[[b'id',\n",
       "  b'0000000000000000000000000000000000000000-10',\n",
       "  b'reader',\n",
       "  b'CommandReader',\n",
       "  b'desc',\n",
       "  None,\n",
       "  b'RegistrationData',\n",
       "  [b'mode',\n",
       "   b'async',\n",
       "   b'numTriggered',\n",
       "   1,\n",
       "   b'numSuccess',\n",
       "   1,\n",
       "   b'numFailures',\n",
       "   0,\n",
       "   b'numAborted',\n",
       "   0,\n",
       "   b'lastError',\n",
       "   None,\n",
       "   b'args',\n",
       "   [b'trigger', b'EXEC']],\n",
       "  b'PD',\n",
       "  b\"{'sessionId':'0000000000000000000000000000000000000000-9', 'depsList':[{'name':'redgrease[runtime]', 'basePath':'/var/opt/redislabs/modules/rg//python3_1.0.6//redgrease[runtime]', 'wheels':['packaging-20.9-py2.py3-none-any.whl','pyparsing-2.4.7-py2.py3-none-any.whl','cloudpickle-1.6.0-py3-none-any.whl','redis-3.5.3-py2.py3-none-any.whl','redgrease-0.1.28-py3-none-any.whl','wrapt-1.12.1-py3-none-any.whl','attrs-20.3.0-py2.py3-none-any.whl']}]}\"],\n",
       " [b'id',\n",
       "  b'0000000000000000000000000000000000000000-8',\n",
       "  b'reader',\n",
       "  b'CommandReader',\n",
       "  b'desc',\n",
       "  None,\n",
       "  b'RegistrationData',\n",
       "  [b'mode',\n",
       "   b'async',\n",
       "   b'numTriggered',\n",
       "   2,\n",
       "   b'numSuccess',\n",
       "   2,\n",
       "   b'numFailures',\n",
       "   0,\n",
       "   b'numAborted',\n",
       "   0,\n",
       "   b'lastError',\n",
       "   None,\n",
       "   b'args',\n",
       "   [b'trigger', b'EXE']],\n",
       "  b'PD',\n",
       "  b\"{'sessionId':'0000000000000000000000000000000000000000-7', 'depsList':[{'name':'redgrease[runtime]', 'basePath':'/var/opt/redislabs/modules/rg//python3_1.0.6//redgrease[runtime]', 'wheels':['packaging-20.9-py2.py3-none-any.whl','pyparsing-2.4.7-py2.py3-none-any.whl','cloudpickle-1.6.0-py3-none-any.whl','redis-3.5.3-py2.py3-none-any.whl','redgrease-0.1.28-py3-none-any.whl','wrapt-1.12.1-py3-none-any.whl','attrs-20.3.0-py2.py3-none-any.whl']}]}\"],\n",
       " [b'id',\n",
       "  b'0000000000000000000000000000000000000000-13',\n",
       "  b'reader',\n",
       "  b'CommandReader',\n",
       "  b'desc',\n",
       "  None,\n",
       "  b'RegistrationData',\n",
       "  [b'mode',\n",
       "   b'async',\n",
       "   b'numTriggered',\n",
       "   2,\n",
       "   b'numSuccess',\n",
       "   2,\n",
       "   b'numFailures',\n",
       "   0,\n",
       "   b'numAborted',\n",
       "   0,\n",
       "   b'lastError',\n",
       "   None,\n",
       "   b'args',\n",
       "   [b'trigger', b'EX']],\n",
       "  b'PD',\n",
       "  b\"{'sessionId':'0000000000000000000000000000000000000000-12', 'depsList':[{'name':'redgrease[runtime]', 'basePath':'/var/opt/redislabs/modules/rg//python3_1.0.6//redgrease[runtime]', 'wheels':['packaging-20.9-py2.py3-none-any.whl','pyparsing-2.4.7-py2.py3-none-any.whl','cloudpickle-1.6.0-py3-none-any.whl','redis-3.5.3-py2.py3-none-any.whl','redgrease-0.1.28-py3-none-any.whl','wrapt-1.12.1-py3-none-any.whl','attrs-20.3.0-py2.py3-none-any.whl']}]}\"],\n",
       " [b'id',\n",
       "  b'0000000000000000000000000000000000000000-65',\n",
       "  b'reader',\n",
       "  b'StreamReader',\n",
       "  b'desc',\n",
       "  None,\n",
       "  b'RegistrationData',\n",
       "  [b'mode',\n",
       "   b'async',\n",
       "   b'numTriggered',\n",
       "   6,\n",
       "   b'numSuccess',\n",
       "   6,\n",
       "   b'numFailures',\n",
       "   0,\n",
       "   b'numAborted',\n",
       "   0,\n",
       "   b'lastError',\n",
       "   None,\n",
       "   b'args',\n",
       "   [b'batchSize', 1, b'durationMS', 0, b'stream', b'*'],\n",
       "   b'status',\n",
       "   b'OK'],\n",
       "  b'PD',\n",
       "  b\"{'sessionId':'0000000000000000000000000000000000000000-64', 'depsList':[{'name':'redgrease[runtime]', 'basePath':'/var/opt/redislabs/modules/rg//python3_1.0.6//redgrease[runtime]', 'wheels':['packaging-20.9-py2.py3-none-any.whl','pyparsing-2.4.7-py2.py3-none-any.whl','cloudpickle-1.6.0-py3-none-any.whl','redis-3.5.3-py2.py3-none-any.whl','redgrease-0.1.28-py3-none-any.whl','wrapt-1.12.1-py3-none-any.whl','attrs-20.3.0-py2.py3-none-any.whl']}]}\"],\n",
       " [b'id',\n",
       "  b'0000000000000000000000000000000000000000-64',\n",
       "  b'reader',\n",
       "  b'StreamReader',\n",
       "  b'desc',\n",
       "  None,\n",
       "  b'RegistrationData',\n",
       "  [b'mode',\n",
       "   b'async',\n",
       "   b'numTriggered',\n",
       "   7,\n",
       "   b'numSuccess',\n",
       "   7,\n",
       "   b'numFailures',\n",
       "   0,\n",
       "   b'numAborted',\n",
       "   0,\n",
       "   b'lastError',\n",
       "   None,\n",
       "   b'args',\n",
       "   [b'batchSize', 1, b'durationMS', 0, b'stream', b'*'],\n",
       "   b'status',\n",
       "   b'OK'],\n",
       "  b'PD',\n",
       "  b\"{'sessionId':'0000000000000000000000000000000000000000-63', 'depsList':[{'name':'redgrease[runtime]', 'basePath':'/var/opt/redislabs/modules/rg//python3_1.0.6//redgrease[runtime]', 'wheels':['packaging-20.9-py2.py3-none-any.whl','pyparsing-2.4.7-py2.py3-none-any.whl','cloudpickle-1.6.0-py3-none-any.whl','redis-3.5.3-py2.py3-none-any.whl','redgrease-0.1.28-py3-none-any.whl','wrapt-1.12.1-py3-none-any.whl','attrs-20.3.0-py2.py3-none-any.whl']}]}\"],\n",
       " [b'id',\n",
       "  b'0000000000000000000000000000000000000000-14',\n",
       "  b'reader',\n",
       "  b'CommandReader',\n",
       "  b'desc',\n",
       "  None,\n",
       "  b'RegistrationData',\n",
       "  [b'mode',\n",
       "   b'async',\n",
       "   b'numTriggered',\n",
       "   1,\n",
       "   b'numSuccess',\n",
       "   1,\n",
       "   b'numFailures',\n",
       "   0,\n",
       "   b'numAborted',\n",
       "   0,\n",
       "   b'lastError',\n",
       "   None,\n",
       "   b'args',\n",
       "   [b'trigger', b'DO']],\n",
       "  b'PD',\n",
       "  b\"{'sessionId':'0000000000000000000000000000000000000000-13', 'depsList':[{'name':'redgrease[runtime]', 'basePath':'/var/opt/redislabs/modules/rg//python3_1.0.6//redgrease[runtime]', 'wheels':['packaging-20.9-py2.py3-none-any.whl','pyparsing-2.4.7-py2.py3-none-any.whl','cloudpickle-1.6.0-py3-none-any.whl','redis-3.5.3-py2.py3-none-any.whl','redgrease-0.1.28-py3-none-any.whl','wrapt-1.12.1-py3-none-any.whl','attrs-20.3.0-py2.py3-none-any.whl']}]}\"],\n",
       " [b'id',\n",
       "  b'0000000000000000000000000000000000000000-11',\n",
       "  b'reader',\n",
       "  b'CommandReader',\n",
       "  b'desc',\n",
       "  None,\n",
       "  b'RegistrationData',\n",
       "  [b'mode',\n",
       "   b'async',\n",
       "   b'numTriggered',\n",
       "   1,\n",
       "   b'numSuccess',\n",
       "   1,\n",
       "   b'numFailures',\n",
       "   0,\n",
       "   b'numAborted',\n",
       "   0,\n",
       "   b'lastError',\n",
       "   None,\n",
       "   b'args',\n",
       "   [b'trigger', b'EXECUTE']],\n",
       "  b'PD',\n",
       "  b\"{'sessionId':'0000000000000000000000000000000000000000-10', 'depsList':[{'name':'redgrease[runtime]', 'basePath':'/var/opt/redislabs/modules/rg//python3_1.0.6//redgrease[runtime]', 'wheels':['packaging-20.9-py2.py3-none-any.whl','pyparsing-2.4.7-py2.py3-none-any.whl','cloudpickle-1.6.0-py3-none-any.whl','redis-3.5.3-py2.py3-none-any.whl','redgrease-0.1.28-py3-none-any.whl','wrapt-1.12.1-py3-none-any.whl','attrs-20.3.0-py2.py3-none-any.whl']}]}\"],\n",
       " [b'id',\n",
       "  b'0000000000000000000000000000000000000000-12',\n",
       "  b'reader',\n",
       "  b'CommandReader',\n",
       "  b'desc',\n",
       "  None,\n",
       "  b'RegistrationData',\n",
       "  [b'mode',\n",
       "   b'async',\n",
       "   b'numTriggered',\n",
       "   1,\n",
       "   b'numSuccess',\n",
       "   1,\n",
       "   b'numFailures',\n",
       "   0,\n",
       "   b'numAborted',\n",
       "   0,\n",
       "   b'lastError',\n",
       "   None,\n",
       "   b'args',\n",
       "   [b'trigger', b'X']],\n",
       "  b'PD',\n",
       "  b\"{'sessionId':'0000000000000000000000000000000000000000-11', 'depsList':[{'name':'redgrease[runtime]', 'basePath':'/var/opt/redislabs/modules/rg//python3_1.0.6//redgrease[runtime]', 'wheels':['packaging-20.9-py2.py3-none-any.whl','pyparsing-2.4.7-py2.py3-none-any.whl','cloudpickle-1.6.0-py3-none-any.whl','redis-3.5.3-py2.py3-none-any.whl','redgrease-0.1.28-py3-none-any.whl','wrapt-1.12.1-py3-none-any.whl','attrs-20.3.0-py2.py3-none-any.whl']}]}\"],\n",
       " [b'id',\n",
       "  b'0000000000000000000000000000000000000000-66',\n",
       "  b'reader',\n",
       "  b'StreamReader',\n",
       "  b'desc',\n",
       "  None,\n",
       "  b'RegistrationData',\n",
       "  [b'mode',\n",
       "   b'async',\n",
       "   b'numTriggered',\n",
       "   3,\n",
       "   b'numSuccess',\n",
       "   3,\n",
       "   b'numFailures',\n",
       "   0,\n",
       "   b'numAborted',\n",
       "   0,\n",
       "   b'lastError',\n",
       "   None,\n",
       "   b'args',\n",
       "   [b'batchSize', 1, b'durationMS', 0, b'stream', b'*'],\n",
       "   b'status',\n",
       "   b'OK'],\n",
       "  b'PD',\n",
       "  b\"{'sessionId':'0000000000000000000000000000000000000000-65', 'depsList':[{'name':'redgrease[runtime]', 'basePath':'/var/opt/redislabs/modules/rg//python3_1.0.6//redgrease[runtime]', 'wheels':['packaging-20.9-py2.py3-none-any.whl','pyparsing-2.4.7-py2.py3-none-any.whl','cloudpickle-1.6.0-py3-none-any.whl','redis-3.5.3-py2.py3-none-any.whl','redgrease-0.1.28-py3-none-any.whl','wrapt-1.12.1-py3-none-any.whl','attrs-20.3.0-py2.py3-none-any.whl']}]}\"]]"
      ]
     },
     "execution_count": 249,
     "metadata": {},
     "output_type": "execute_result"
    }
   ],
   "source": [
    "import redis\n",
    "r = redis.Redis()\n",
    "r.execute_command(\"RG.DUMPREGISTRATIONS\")"
   ]
  },
  {
   "cell_type": "code",
   "execution_count": 242,
   "metadata": {},
   "outputs": [],
   "source": [
    "single.get(\"TEST\")"
   ]
  },
  {
   "cell_type": "markdown",
   "metadata": {},
   "source": [
    "<a id=\"demo-command\"></a>\n",
    "## 4. Custom Command"
   ]
  },
  {
   "cell_type": "code",
   "execution_count": null,
   "metadata": {},
   "outputs": [],
   "source": []
  },
  {
   "cell_type": "code",
   "execution_count": 135,
   "metadata": {},
   "outputs": [
    {
     "name": "stdout",
     "output_type": "stream",
     "text": [
      "Demo 4 - Custom Command\n"
     ]
    },
    {
     "data": {
      "text/plain": [
       "{b'supercategory': b'kitchen', b'id': b'47', b'name': b'cup'}"
      ]
     },
     "execution_count": 135,
     "metadata": {},
     "output_type": "execute_result"
    }
   ],
   "source": [
    "print(\"Demo 4 - Custom Command\")\n",
    "cluster = redgrease.RedisGears(\n",
    "    startup_nodes=[\n",
    "        {\"host\":\"localhost\", \"port\":30001},\n",
    "        {\"host\":\"localhost\", \"port\":30002},\n",
    "        {\"host\":\"localhost\", \"port\":30003},\n",
    "    ]\n",
    ")\n",
    "cluster.hgetall(\"/dataset/COCO/annotations/category/47\")"
   ]
  },
  {
   "cell_type": "code",
   "execution_count": null,
   "metadata": {},
   "outputs": [],
   "source": []
  }
 ],
 "metadata": {
  "kernelspec": {
   "display_name": "Python 3",
   "language": "python",
   "name": "python3"
  },
  "language_info": {
   "codemirror_mode": {
    "name": "ipython",
    "version": 3
   },
   "file_extension": ".py",
   "mimetype": "text/x-python",
   "name": "python",
   "nbconvert_exporter": "python",
   "pygments_lexer": "ipython3",
   "version": "3.7.10"
  },
  "metadata": {
   "interpreter": {
    "hash": "dab300696de9719b5a13d46921259e062f63d9f082fc9b215a0fc3675193508b"
   }
  },
  "toc-autonumbering": false,
  "toc-showcode": false,
  "toc-showmarkdowntxt": false
 },
 "nbformat": 4,
 "nbformat_minor": 4
}
